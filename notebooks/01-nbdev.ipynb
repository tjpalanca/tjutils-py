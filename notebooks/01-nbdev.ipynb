{
 "cells": [
  {
   "cell_type": "markdown",
   "metadata": {},
   "source": [
    "## {nbdev} integration\n",
    "\n",
    "These utilities are intended to be used to integrate nbdev into the workflow, alongside some opinionated tools like `{poetry}`, and also enforcing some of my personal defaults. "
   ]
  },
  {
   "cell_type": "code",
   "execution_count": null,
   "metadata": {},
   "outputs": [],
   "source": [
    "#| default_exp nbdev\n",
    "#| export\n",
    "import tomllib\n",
    "from nbdev import nbdev_export, show_doc\n",
    "from nbdev.config import nbdev_create_config, read_config_file\n",
    "from pathlib import Path"
   ]
  },
  {
   "cell_type": "code",
   "execution_count": null,
   "metadata": {},
   "outputs": [],
   "source": [
    "#| export\n",
    "def export():\n",
    "    \"Syncs poetry config, nbdev's settings.ini, and does an export to the module.\"\n",
    "\n",
    "    with open(\"pyproject.toml\", \"rb\") as f:\n",
    "        data = tomllib.load(f)[\"tool\"][\"poetry\"]\n",
    "    comment = \"\\n    # Set from pyproject.toml\"\n",
    "    authors = \", \".join(aut.split(\"<\")[0].strip() for aut in data[\"authors\"])\n",
    "    poetry_config = {\n",
    "        \"repo\": data[\"name\"] + comment,\n",
    "        \"lib_name\": data[\"name\"] + comment,\n",
    "        \"lib_path\": data[\"name\"] + comment,\n",
    "        \"version\": data[\"version\"] + comment,\n",
    "        \"description\": data[\"description\"] + comment,\n",
    "        \"license\": data[\"license\"] + comment,\n",
    "        \"author\": authors + comment,\n",
    "        \"author_email\": \", \".join(\n",
    "            aut.split(\"<\")[1].replace(\">\", \"\") for aut in data[\"authors\"]\n",
    "        )\n",
    "        + comment,\n",
    "        \"min_python\": data[\"dependencies\"][\"python\"].replace(\"^\", \"\") + comment,\n",
    "        \"copyright\": f\"2022 onwards, {authors}\" + comment\n",
    "    }\n",
    "\n",
    "    settings_file = Path(\"settings.ini\")\n",
    "    if settings_file.is_file():\n",
    "        config = dict(read_config_file(settings_file)) | poetry_config\n",
    "        settings_file.unlink()\n",
    "    else:\n",
    "        config = poetry_config\n",
    "    nbdev_create_config(**config)\n",
    "    nbdev_export(config[\"nbs_path\"])\n"
   ]
  }
 ],
 "metadata": {
  "kernelspec": {
   "display_name": "Python 3.11.0rc2 ('.venv': poetry)",
   "language": "python",
   "name": "python3"
  }
 },
 "nbformat": 4,
 "nbformat_minor": 2
}
