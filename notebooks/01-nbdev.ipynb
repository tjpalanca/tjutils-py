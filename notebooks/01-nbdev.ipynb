{
 "cells": [
  {
   "cell_type": "markdown",
   "metadata": {},
   "source": [
    "## {nbdev} integration\n",
    "\n",
    "These utilities are intended to be used to integrate nbdev into the workflow, alongside some opinionated tools like `{poetry}`, and also enforcing some of my personal defaults. "
   ]
  },
  {
   "cell_type": "code",
   "execution_count": 16,
   "metadata": {},
   "outputs": [],
   "source": [
    "#| default_exp nbdev\n",
    "#| export\n",
    "import tomllib\n",
    "from nbdev import nbdev_export, show_doc\n",
    "from nbdev.config import nbdev_create_config, read_config_file\n",
    "from pathlib import Path"
   ]
  },
  {
   "cell_type": "code",
   "execution_count": 1,
   "metadata": {},
   "outputs": [],
   "source": [
    "#| export\n",
    "def export():\n",
    "    \"Syncs poetry config, nbdev's settings.ini, and does an export to the module.\"\n",
    "\n",
    "    with open(\"pyproject.toml\", \"rb\") as f:\n",
    "        data = tomllib.load(f)[\"tool\"][\"poetry\"]\n",
    "    comment = \"\\n    # Set from pyproject.toml\"\n",
    "    authors = \", \".join(aut.split(\"<\")[0].strip() for aut in data[\"authors\"])\n",
    "    poetry_config = {\n",
    "        \"repo\": data[\"name\"] + comment,\n",
    "        \"lib_name\": data[\"name\"] + comment,\n",
    "        \"lib_path\": data[\"name\"] + comment,\n",
    "        \"version\": data[\"version\"] + comment,\n",
    "        \"description\": data[\"description\"] + comment,\n",
    "        \"license\": data[\"license\"] + comment,\n",
    "        \"author\": authors + comment,\n",
    "        \"author_email\": \", \".join(\n",
    "            aut.split(\"<\")[1].replace(\">\", \"\") for aut in data[\"authors\"]\n",
    "        )\n",
    "        + comment,\n",
    "        \"min_python\": data[\"dependencies\"][\"python\"].replace(\"^\", \"\") + comment,\n",
    "        \"copyright\": f\"2022 onwards, {authors}\" + comment\n",
    "    }\n",
    "\n",
    "    settings_file = Path(\"settings.ini\")\n",
    "    if settings_file.is_file():\n",
    "        config = dict(read_config_file(settings_file)) | poetry_config\n",
    "        settings_file.unlink()\n",
    "    else:\n",
    "        config = poetry_config\n",
    "    nbdev_create_config(**config)\n",
    "    nbdev_export(config[\"nbs_path\"])\n"
   ]
  },
  {
   "cell_type": "code",
   "execution_count": 18,
   "metadata": {},
   "outputs": [
    {
     "data": {
      "text/markdown": [
       "---\n",
       "\n",
       "### export\n",
       "\n",
       ">      export ()\n",
       "\n",
       "Syncs poetry config, nbdev's settings.ini, and does an export to the module."
      ],
      "text/plain": [
       "---\n",
       "\n",
       "### export\n",
       "\n",
       ">      export ()\n",
       "\n",
       "Syncs poetry config, nbdev's settings.ini, and does an export to the module."
      ]
     },
     "execution_count": 18,
     "metadata": {},
     "output_type": "execute_result"
    }
   ],
   "source": [
    "show_doc(export)"
   ]
  },
  {
   "cell_type": "code",
   "execution_count": 2,
   "metadata": {},
   "outputs": [
    {
     "ename": "NameError",
     "evalue": "name 'tomllib' is not defined",
     "output_type": "error",
     "traceback": [
      "\u001b[0;31m---------------------------------------------------------------------------\u001b[0m",
      "\u001b[0;31mNameError\u001b[0m                                 Traceback (most recent call last)",
      "Cell \u001b[0;32mIn [2], line 1\u001b[0m\n\u001b[0;32m----> 1\u001b[0m export()\n",
      "Cell \u001b[0;32mIn [1], line 6\u001b[0m, in \u001b[0;36mexport\u001b[0;34m()\u001b[0m\n\u001b[1;32m      3\u001b[0m \u001b[38;5;124m\"\u001b[39m\u001b[38;5;124mSyncs poetry config, nbdev\u001b[39m\u001b[38;5;124m'\u001b[39m\u001b[38;5;124ms settings.ini, and does an export to the module.\u001b[39m\u001b[38;5;124m\"\u001b[39m\n\u001b[1;32m      5\u001b[0m \u001b[38;5;28;01mwith\u001b[39;00m \u001b[38;5;28mopen\u001b[39m(\u001b[38;5;124m\"\u001b[39m\u001b[38;5;124mpyproject.toml\u001b[39m\u001b[38;5;124m\"\u001b[39m, \u001b[38;5;124m\"\u001b[39m\u001b[38;5;124mrb\u001b[39m\u001b[38;5;124m\"\u001b[39m) \u001b[38;5;28;01mas\u001b[39;00m f:\n\u001b[0;32m----> 6\u001b[0m     data \u001b[38;5;241m=\u001b[39m tomllib\u001b[38;5;241m.\u001b[39mload(f)[\u001b[38;5;124m\"\u001b[39m\u001b[38;5;124mtool\u001b[39m\u001b[38;5;124m\"\u001b[39m][\u001b[38;5;124m\"\u001b[39m\u001b[38;5;124mpoetry\u001b[39m\u001b[38;5;124m\"\u001b[39m]\n\u001b[1;32m      7\u001b[0m comment \u001b[38;5;241m=\u001b[39m \u001b[38;5;124m\"\u001b[39m\u001b[38;5;130;01m\\n\u001b[39;00m\u001b[38;5;124m    # Set from pyproject.toml\u001b[39m\u001b[38;5;124m\"\u001b[39m\n\u001b[1;32m      8\u001b[0m authors \u001b[38;5;241m=\u001b[39m \u001b[38;5;124m\"\u001b[39m\u001b[38;5;124m, \u001b[39m\u001b[38;5;124m\"\u001b[39m\u001b[38;5;241m.\u001b[39mjoin(aut\u001b[38;5;241m.\u001b[39msplit(\u001b[38;5;124m\"\u001b[39m\u001b[38;5;124m<\u001b[39m\u001b[38;5;124m\"\u001b[39m)[\u001b[38;5;241m0\u001b[39m]\u001b[38;5;241m.\u001b[39mstrip() \u001b[38;5;28;01mfor\u001b[39;00m aut \u001b[38;5;129;01min\u001b[39;00m data[\u001b[38;5;124m\"\u001b[39m\u001b[38;5;124mauthors\u001b[39m\u001b[38;5;124m\"\u001b[39m])\n",
      "\u001b[0;31mNameError\u001b[0m: name 'tomllib' is not defined"
     ]
    }
   ],
   "source": []
  },
  {
   "cell_type": "code",
   "execution_count": null,
   "metadata": {},
   "outputs": [],
   "source": []
  }
 ],
 "metadata": {
  "kernelspec": {
   "display_name": "Python 3.11.0rc2 ('.venv': poetry)",
   "language": "python",
   "name": "python3"
  },
  "language_info": {
   "codemirror_mode": {
    "name": "ipython",
    "version": 3
   },
   "file_extension": ".py",
   "mimetype": "text/x-python",
   "name": "python",
   "nbconvert_exporter": "python",
   "pygments_lexer": "ipython3",
   "version": "3.11.0"
  },
  "orig_nbformat": 4,
  "vscode": {
   "interpreter": {
    "hash": "1456fc05f915dae40c769cac11abcf24c5461411bbb947c19a5eb38f631df167"
   }
  }
 },
 "nbformat": 4,
 "nbformat_minor": 2
}
