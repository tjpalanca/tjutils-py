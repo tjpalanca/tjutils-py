{
 "cells": [
  {
   "cell_type": "markdown",
   "metadata": {},
   "source": [
    "# Utilities\n",
    "\n",
    "* Shared utilities across the package"
   ]
  },
  {
   "cell_type": "code",
   "execution_count": null,
   "metadata": {},
   "outputs": [],
   "source": [
    "# | default_exp utils\n",
    "# | export\n",
    "import importlib.resources as pkg_resources\n",
    "from pathlib import Path"
   ]
  },
  {
   "cell_type": "markdown",
   "metadata": {},
   "source": [
    "## Templates \n",
    "\n",
    "We store templates in the `/templates` folder, then we can pull from that repo using the GitHub URL and use it in other repos I am working on."
   ]
  },
  {
   "cell_type": "code",
   "execution_count": null,
   "metadata": {},
   "outputs": [],
   "source": [
    "# | export\n",
    "def copy_template(tmp: str, file: str, append: bool = False):\n",
    "    \"Copies a template from the templates directory\"\n",
    "    filepath = Path(file)\n",
    "    filepath.parent.mkdir(parents=True, exist_ok=True)\n",
    "    content = pkg_resources.files(\"tjutils\").joinpath(f\"templates/{tmp}\").read_text()\n",
    "    with open(file, \"a\" if append else \"w\") as f:\n",
    "        f.write(content)\n",
    "    return None"
   ]
  }
 ],
 "metadata": {
  "kernelspec": {
   "display_name": "Python 3.11.0rc2 ('.venv': poetry)",
   "language": "python",
   "name": "python3"
  }
 },
 "nbformat": 4,
 "nbformat_minor": 2
}
