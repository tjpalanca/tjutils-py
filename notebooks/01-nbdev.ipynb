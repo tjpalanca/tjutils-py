{
 "cells": [
  {
   "cell_type": "markdown",
   "metadata": {},
   "source": [
    "## {nbdev} integration\n",
    "\n",
    "These utilities are intended to be used to integrate nbdev into the workflow, alongside some opinionated tools like `{poetry}`, and also enforcing some of my personal defaults. "
   ]
  },
  {
   "cell_type": "code",
   "execution_count": 1,
   "metadata": {
    "vscode": {
     "languageId": "python"
    }
   },
   "outputs": [],
   "source": [
    "# | default_exp nbdev\n",
    "# | export\n",
    "import tomllib\n",
    "from fastcore.xtras import repo_details\n",
    "from nbdev import nbdev_export\n",
    "from nbdev.config import nbdev_create_config, read_config_file\n",
    "from pathlib import Path\n",
    "from git import Repo\n",
    "from urllib.parse import urlparse\n"
   ]
  },
  {
   "cell_type": "code",
   "execution_count": 4,
   "metadata": {
    "vscode": {
     "languageId": "python"
    }
   },
   "outputs": [],
   "source": [
    "# | export\n",
    "\n",
    "def _get_classifier_value(classifiers, name):\n",
    "    classifier = [c for c in classifiers if c.startswith(f\"{name} :: \")]\n",
    "    if len(classifier) == 1:\n",
    "        return classifier[0].split(\" :: \")[1]\n",
    "    else: \n",
    "        return None\n",
    "\n",
    "def export():\n",
    "    \"Syncs poetry config, nbdev's settings.ini, and does an export to the module.\"\n",
    "\n",
    "    # Read pyproject.toml\n",
    "    with open(\"pyproject.toml\", \"rb\") as f:\n",
    "        data = tomllib.load(f)\n",
    "        poetry = data[\"tool\"][\"poetry\"]\n",
    "        nbdev = data[\"tool\"].get(\"nbdev\") or {}\n",
    "\n",
    "    # Read git repository\n",
    "    repo = Repo(\".\")\n",
    "    git_url = repo.remotes[\"origin\"].url\n",
    "    git_branch = repo.active_branch.name\n",
    "    git_user, git_repo = repo_details(Repo(\".\").remotes[\"origin\"].url)\n",
    "\n",
    "    # Gather as much config from data sources\n",
    "    from_pp = \"\"#\"\\n    # Set from pyproject.toml\"\n",
    "    from_gt = \"\"#\"\\n    # Set from git repository\"\n",
    "    from_df = \"\"#\"\\n    # Default\"\n",
    "    authors = \", \".join(aut.split(\"<\")[0].strip() for aut in poetry[\"authors\"])\n",
    "    doc_url = urlparse(poetry.get(\"documentation\", f\"https://tjpalanca.com/{git_repo}\"))\n",
    "    doc_host = f\"{doc_url.scheme}://{doc_url.netloc}\"\n",
    "    doc_baseurl = doc_url.path\n",
    "    if (classifiers := poetry.get(\"classifiers\")):\n",
    "        if (status := _get_classifier_value(classifiers, \"Development Status\")):\n",
    "            status = status.split(\" - \")[0]\n",
    "        audience = _get_classifier_value(classifiers, \"Intended Audience\")\n",
    "        language = _get_classifier_value(classifiers, \"Natural Language\")\n",
    "    inferred_config = {\n",
    "        \"repo\": git_repo + from_gt,\n",
    "        \"branch\": git_branch + from_gt,\n",
    "        \"user\": git_user + from_gt,\n",
    "        \"author\": authors + from_pp,\n",
    "        \"author_email\": \", \".join(\n",
    "            aut.split(\"<\")[1].replace(\">\", \"\") for aut in poetry[\"authors\"]\n",
    "        )\n",
    "        + from_pp,\n",
    "        \"description\": poetry[\"description\"] + from_pp,\n",
    "        \"path\": nbdev.get(\"path\", \".\" + from_df),\n",
    "        \"cfg_name\": nbdev.get(\"cfg_name\", \"settings.ini\" + from_df),\n",
    "        \"lib_name\": poetry[\"name\"] + from_pp,\n",
    "        \"git_url\": git_url + from_pp,\n",
    "        \"custom_sidebar\": nbdev.get(\"sidebar\", \"False\" + from_df),\n",
    "        \"nbs_path\": nbdev.get(\"nbs_path\", \"notebooks\" + from_df),\n",
    "        \"lib_path\": poetry[\"name\"] + from_pp,\n",
    "        \"doc_path\": nbdev.get(\"doc_path\", \"_docs\") + from_pp,\n",
    "        \"tst_flags\": nbdev.get(\"tst_flags\", \"notest\") + from_pp,\n",
    "        \"version\": poetry[\"version\"] + from_pp,\n",
    "        \"doc_host\": nbdev.get(\"doc_host\", doc_host + from_df),\n",
    "        \"doc_baseurl\": nbdev.get(\"doc_baseurl\", doc_baseurl + from_gt),\n",
    "        \"keywords\": poetry.get(\"keywords\", \"tjpalanca nbdev\" + from_df),\n",
    "        \"license\": poetry[\"license\"] + from_pp,\n",
    "        \"copyright\": f\"2022 onwards, {authors}\" + from_pp,\n",
    "        \"status\": nbdev.get(\"status\") or status or (\"3\" + from_df),\n",
    "        \"audience\": nbdev.get(\"audience\") or audience or (\"Developers\" + from_df),\n",
    "        \"min_python\": poetry[\"dependencies\"][\"python\"].replace(\"^\", \"\") + from_pp,\n",
    "        \"language\": nbdev.get(\"language\") or language or (\"English\" + from_df),\n",
    "        \"recursive\": nbdev.get(\"recursive\", \"False\" + from_df),\n",
    "        \"black_formatting\": nbdev.get(\"black_formatting\", \"True\" + from_df),\n",
    "        \"readme_nb\": nbdev.get(\"readme_nb\", \"README.ipynb\" + from_df),\n",
    "        \"title\": poetry[\"name\"] + from_pp,\n",
    "        \"allowed_metadata_keys\": nbdev.get(\"allowed_metadata_keys\"),\n",
    "        \"allowed_cell_metadata_keys\": nbdev.get(\"allowed_cell_metadata_keys\"),\n",
    "        \"jupyter_hooks\": nbdev.get(\"jupyter_hooks\", \"True\" + from_df),\n",
    "        \"clean_ids\": nbdev.get(\"clean_ids\", \"True\" + from_df),\n",
    "        \"clear_all\": nbdev.get(\"clear_all\", \"False\" + from_df),\n",
    "        \"put_version_in_init\": nbdev.get(\"put_version_in_init\", \"True\" + from_df),\n",
    "    }\n",
    "\n",
    "    # Unify with existing settings.ini\n",
    "    settings_file = Path(\"settings.ini\")\n",
    "    if settings_file.is_file():\n",
    "        config = dict(read_config_file(settings_file)) | inferred_config\n",
    "        settings_file.unlink()\n",
    "    else:\n",
    "        config = inferred_config\n",
    "\n",
    "    # Recreate the configuration file\n",
    "    nbdev_create_config(**config)\n",
    "\n",
    "    # Export noteboooks to module\n",
    "    nbdev_export(config[\"nbs_path\"])\n"
   ]
  },
  {
   "cell_type": "code",
   "execution_count": 7,
   "metadata": {
    "vscode": {
     "languageId": "python"
    }
   },
   "outputs": [
    {
     "name": "stdout",
     "output_type": "stream",
     "text": [
      "settings.ini created.\n"
     ]
    }
   ],
   "source": [
    "# | export \n",
    "def version():\n",
    "    pass"
   ]
  },
  {
   "cell_type": "code",
   "execution_count": null,
   "metadata": {
    "vscode": {
     "languageId": "python"
    }
   },
   "outputs": [],
   "source": [
    "export()"
   ]
  }
 ],
 "metadata": {
  "kernelspec": {
   "display_name": "Python 3.11.0rc2 ('.venv': poetry)",
   "language": "python",
   "name": "python3"
  }
 },
 "nbformat": 4,
 "nbformat_minor": 2
}
