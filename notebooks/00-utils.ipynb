{
 "cells": [
  {
   "cell_type": "markdown",
   "metadata": {},
   "source": [
    "# Utilities\n",
    "\n",
    "* Shared utilities across the package"
   ]
  },
  {
   "cell_type": "code",
   "execution_count": null,
   "metadata": {},
   "outputs": [],
   "source": [
    "# | default_exp utils\n",
    "# | export\n",
    "import yaml\n",
    "import shutil\n",
    "import importlib.resources as pkg_resources\n",
    "from pathlib import Path"
   ]
  },
  {
   "cell_type": "markdown",
   "metadata": {},
   "source": [
    "## Templates \n",
    "\n",
    "We store templates in the `/templates` folder, then we can pull from that repo using the GitHub URL and use it in other repos I am working on."
   ]
  },
  {
   "cell_type": "code",
   "execution_count": null,
   "metadata": {},
   "outputs": [],
   "source": [
    "# | export\n",
    "def copy_template(tmp: str, file: str, append: bool = False):\n",
    "    \"Copies a template from the templates directory\"\n",
    "    filepath = Path(file)\n",
    "    filepath.parent.mkdir(parents=True, exist_ok=True)\n",
    "    content = pkg_resources.files(\"tjutils\").joinpath(f\"templates/{tmp}\").read_text()\n",
    "    with open(file, \"a\" if append else \"w\") as f:\n",
    "        f.write(content)\n",
    "    return None"
   ]
  },
  {
   "cell_type": "code",
   "execution_count": null,
   "metadata": {},
   "outputs": [],
   "source": [
    "# | export\n",
    "def copy_directory(template_dir: str, destination_dir: str):\n",
    "    \"Copies a directory from the template directory\"\n",
    "    src = str(pkg_resources.files(\"tjutils\").joinpath(f\"templates/{template_dir}\"))\n",
    "    dst = destination_dir\n",
    "    shutil.copytree(src, dst, dirs_exist_ok=True)\n",
    "    return None"
   ]
  },
  {
   "cell_type": "code",
   "execution_count": null,
   "metadata": {},
   "outputs": [],
   "source": [
    "# | export\n",
    "def copy_yaml(template_yaml: str, destination_yaml: str):\n",
    "    \"Merges in a YAML file into another yaml\"\n",
    "    src = pkg_resources.files(\"tjutils\").joinpath(f\"templates/{template_yaml}\")\n",
    "    dst = Path(destination_yaml)\n",
    "    with src.open(\"r\") as f:\n",
    "        src_data = yaml.safe_load(f)\n",
    "    if dst.is_file():\n",
    "        with dst.open(\"r\") as f:\n",
    "            dst_data = yaml.safe_load(f)\n",
    "        new_data = dst_data | src_data\n",
    "    else:\n",
    "        new_data = src_data\n",
    "    with dst.open(\"w\") as f:\n",
    "        yaml.dump(new_data, f)\n",
    "    return None"
   ]
  }
 ],
 "metadata": {
  "kernelspec": {
   "display_name": "Python 3.10.7 ('.venv': poetry)",
   "language": "python",
   "name": "python3"
  }
 },
 "nbformat": 4,
 "nbformat_minor": 2
}
