{
 "cells": [
  {
   "cell_type": "markdown",
   "metadata": {},
   "source": [
    "# Terraform Integration \n",
    "\n",
    "> Terraform is an infrastructure-as-code (IaC) solution used to provision infrastructure on cloud providers."
   ]
  },
  {
   "cell_type": "code",
   "execution_count": null,
   "metadata": {},
   "outputs": [],
   "source": [
    "# | default_exp terraform\n",
    "# | export\n",
    "\n",
    "from fastcore.script import call_parse\n",
    "from tjutils.utils import copy_template"
   ]
  },
  {
   "cell_type": "code",
   "execution_count": null,
   "metadata": {},
   "outputs": [],
   "source": [
    "# | export\n",
    "\n",
    "\n",
    "@call_parse\n",
    "def github_actions():\n",
    "    \"Add GitHub Actions workflow for planning and applying with Terraform\"\n",
    "    copy_template(\n",
    "        \"terraform/github_actions/tf_deploy.yml\", \".github/workflows/tf_deploy.yml\"\n",
    "    )"
   ]
  }
 ],
 "metadata": {
  "kernelspec": {
   "display_name": "Python 3.10.7 ('.venv': poetry)",
   "language": "python",
   "name": "python3"
  }
 },
 "nbformat": 4,
 "nbformat_minor": 2
}
