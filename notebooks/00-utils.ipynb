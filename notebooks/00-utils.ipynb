{
 "cells": [
  {
   "cell_type": "markdown",
   "metadata": {},
   "source": [
    "# Utilities\n",
    "\n",
    "* Shared utilities across the package"
   ]
  },
  {
   "cell_type": "code",
   "execution_count": 1,
   "metadata": {},
   "outputs": [],
   "source": [
    "# | default_exp utils\n",
    "# | export\n",
    "import importlib.resources as pkg_resources\n",
    "from pathlib import Path"
   ]
  },
  {
   "cell_type": "markdown",
   "metadata": {},
   "source": [
    "## Templates \n",
    "\n",
    "We store templates in the `/templates` folder, then we can pull from that repo using the GitHub URL and use it in other repos I am working on."
   ]
  },
  {
   "cell_type": "code",
   "execution_count": null,
   "metadata": {},
   "outputs": [],
   "source": [
    "# | export\n",
    "TEMPLATES_URL = (\n",
    "    \"https://raw.githubusercontent.com/tjpalanca/tjutils-py/master/templates\"\n",
    ")"
   ]
  },
  {
   "cell_type": "code",
   "execution_count": 32,
   "metadata": {},
   "outputs": [],
   "source": [
    "# | export\n",
    "def copy_template(tmp: str, file: str, append: bool = False):\n",
    "    \"Copies a template from the templates directory\"\n",
    "    filepath = Path(file)\n",
    "    filepath.parent.mkdir(parents=True, exist_ok=True)\n",
    "    content = pkg_resources.files(\"templates\").joinpath(tmp).read_text()\n",
    "    with open(file, \"a\" if append else \"w\") as f:\n",
    "        f.write(content)\n",
    "    return None"
   ]
  }
 ],
 "metadata": {
  "kernelspec": {
   "display_name": "Python 3.11.0rc2 ('.venv': poetry)",
   "language": "python",
   "name": "python3"
  },
  "language_info": {
   "codemirror_mode": {
    "name": "ipython",
    "version": 3
   },
   "file_extension": ".py",
   "mimetype": "text/x-python",
   "name": "python",
   "nbconvert_exporter": "python",
   "pygments_lexer": "ipython3",
   "version": "3.11.0rc2"
  },
  "vscode": {
   "interpreter": {
    "hash": "1456fc05f915dae40c769cac11abcf24c5461411bbb947c19a5eb38f631df167"
   }
  }
 },
 "nbformat": 4,
 "nbformat_minor": 2
}
